{
 "cells": [
  {
   "cell_type": "markdown",
   "metadata": {},
   "source": [
    "![屯園事紀](/Essentialthinking/屯園.JPG)"
   ]
  },
  {
   "cell_type": "markdown",
   "metadata": {},
   "source": [
    "顏淵問仁。子曰：「克己復禮為仁。一日克己復禮，天下歸仁焉。為仁由己，而由人乎哉？」<br>\n",
    "顏淵曰：「請問其目。」<br>\n",
    "子曰：「非禮勿視，非禮勿聽，非禮勿言，非禮勿動。」顏淵曰：「回雖不敏，請事斯語矣。」<br>"
   ]
  },
  {
   "cell_type": "markdown",
   "metadata": {},
   "source": [
    "何謂仁 ? 何謂禮 ? <br>\n",
    "跳脫表象文字後如果解讀 <br>\n",
    "仁的本質是什麼， 種子那他就會產生質變也會有形變<br>\n",
    "禮(理)是一種自然律<br>\n",
    "勿視、勿聽、勿言、勿動。不要用五官感受，一層層往下剝；找到跟本才能找到對的方法解決問題。"
   ]
  }
 ],
 "metadata": {
  "kernelspec": {
   "display_name": "Python 3",
   "language": "python",
   "name": "python3"
  },
  "language_info": {
   "codemirror_mode": {
    "name": "ipython",
    "version": 3
   },
   "file_extension": ".py",
   "mimetype": "text/x-python",
   "name": "python",
   "nbconvert_exporter": "python",
   "pygments_lexer": "ipython3",
   "version": "3.6.5"
  }
 },
 "nbformat": 4,
 "nbformat_minor": 2
}
